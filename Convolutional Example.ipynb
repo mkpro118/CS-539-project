{
 "cells": [
  {
   "cell_type": "code",
   "execution_count": 1,
   "id": "3052e454-483d-4334-aec7-a1a6c2ee9ca7",
   "metadata": {},
   "outputs": [
    {
     "name": "stdout",
     "output_type": "stream",
     "text": [
      "X.shape = (1797, 8, 8)\n",
      "y.shape = (1797,)\n"
     ]
    }
   ],
   "source": [
    "# Get the data\n",
    "from sklearn.datasets import load_digits\n",
    "import numpy as np\n",
    "\n",
    "digit = load_digits()\n",
    "X, y = digit.images, digit.target\n",
    "\n",
    "print(f'{X.shape = }')\n",
    "print(f'{y.shape = }')"
   ]
  },
  {
   "cell_type": "code",
   "execution_count": 2,
   "id": "ad6eb23d-a820-4595-94fa-0a015b03ac89",
   "metadata": {},
   "outputs": [
    {
     "name": "stdout",
     "output_type": "stream",
     "text": [
      "X_train.shape = (1348, 8, 8)\n",
      "y_train.shape = (1348,)\n",
      "X_test.shape = (449, 8, 8)\n",
      "y_test.shape = (449,)\n"
     ]
    }
   ],
   "source": [
    "# Partition the training and testing data\n",
    "from neural_network.model_selection import train_test_split\n",
    "\n",
    "X_train, X_test, y_train, y_test = train_test_split(X, y, test_size=0.25)\n",
    "\n",
    "print(f'{X_train.shape = }')\n",
    "print(f'{y_train.shape = }')\n",
    "print(f'{X_test.shape = }')\n",
    "print(f'{y_test.shape = }')"
   ]
  },
  {
   "cell_type": "code",
   "execution_count": 3,
   "id": "05d7b640-eb3f-491d-ba5f-3ab6b0cb1c98",
   "metadata": {},
   "outputs": [
    {
     "name": "stdout",
     "output_type": "stream",
     "text": [
      "X_train.shape = (1348, 1, 8, 8)\n",
      "X_test.shape = (449, 1, 8, 8)\n"
     ]
    }
   ],
   "source": [
    "# Expand dimensions for convolutions\n",
    "X_train = X_train[:, np.newaxis, :, :]\n",
    "X_test = X_test[:, np.newaxis, :, :]\n",
    "\n",
    "print(f'{X_train.shape = }')\n",
    "print(f'{X_test.shape = }')"
   ]
  },
  {
   "cell_type": "code",
   "execution_count": 4,
   "id": "49e93c21-ab55-45ac-84af-98ff17499e16",
   "metadata": {},
   "outputs": [
    {
     "name": "stdout",
     "output_type": "stream",
     "text": [
      "\n",
      "labels = array([0, 1, 2, 3, 4, 5, 6, 7, 8, 9])\n",
      "\n",
      "y_train_encoded.shape = (1348, 10)\n",
      "y_test_encoded.shape = (449, 10)\n"
     ]
    }
   ],
   "source": [
    "# One Hot Encode the labels\n",
    "from neural_network.preprocess import OneHotEncoder\n",
    "\n",
    "labels = np.unique(y)\n",
    "print(f'\\n{labels = }\\n')  # Unique labels\n",
    "\n",
    "encoder = OneHotEncoder().fit(labels)\n",
    "y_train_encoded = encoder.transform(y_train)\n",
    "y_test_encoded = encoder.transform(y_test)\n",
    "\n",
    "print(f'{y_train_encoded.shape = }')  # Encoded training labels\n",
    "print(f'{y_test_encoded.shape = }')   # Encoded teesting labels"
   ]
  },
  {
   "cell_type": "code",
   "execution_count": 5,
   "id": "84d6a827-6d39-4716-99e7-845e294ec79f",
   "metadata": {},
   "outputs": [],
   "source": [
    "# Define a sequential model\n",
    "from neural_network.model import Sequential\n",
    "\n",
    "net = Sequential()"
   ]
  },
  {
   "cell_type": "code",
   "execution_count": 6,
   "id": "78d4f547-0dd2-4fdb-8fa0-435e52485155",
   "metadata": {},
   "outputs": [],
   "source": [
    "#  Add layers to the model\n",
    "from neural_network.layers import Dense, Flatten, Convolutional\n",
    "\n",
    "net.add(\n",
    "    Convolutional(25, 3, input_shape=(1, 8, 8), activation='tanh'),\n",
    "    Flatten(),\n",
    "    Dense(128, activation='tanh'),\n",
    "    Dense(64, activation='leaky_relu'),\n",
    "    Dense(10, activation='softmax')\n",
    ")"
   ]
  },
  {
   "cell_type": "code",
   "execution_count": 7,
   "id": "a5d2666f-7038-4d48-877d-24512a94f33b",
   "metadata": {},
   "outputs": [],
   "source": [
    "# Compile and build  the model\n",
    "net.compile(cost='crossentropy', metrics=['accuracy_score'])"
   ]
  },
  {
   "cell_type": "code",
   "execution_count": 8,
   "id": "db513cf9-f68e-4b81-b340-dfb9937b51df",
   "metadata": {},
   "outputs": [],
   "source": [
    "# Initialize cross validator\n",
    "from neural_network.model_selection import KFold\n",
    "\n",
    "kf = KFold(n_splits=5)"
   ]
  },
  {
   "cell_type": "code",
   "execution_count": 9,
   "id": "60eb06e1-0dfd-4b99-8f26-1f7fd1c988f3",
   "metadata": {},
   "outputs": [
    {
     "name": "stdout",
     "output_type": "stream",
     "text": [
      "\n",
      "Epoch  1/50\n",
      "  Step 1/8 ... done\n",
      "  Step 2/8 ... done\n",
      "  Step 3/8 ... done\n",
      "  Step 4/8 ... done\n",
      "  Step 5/8 ... done\n",
      "  Step 6/8 ... done\n",
      "  Step 7/8 ... done\n",
      "  Step 8/8 ... done\n",
      "\n",
      "  Validation loss: 3.2313 accuracy_score: 0.1561\n",
      "  Overall loss: 3.2312 accuracy_score: 0.1483\n",
      "\n",
      "Epoch  2/50\n",
      "  Step 1/8 ... done\n",
      "  Step 2/8 ... done\n",
      "  Step 3/8 ... done\n",
      "  Step 4/8 ... done\n",
      "  Step 5/8 ... done\n",
      "  Step 6/8 ... done\n",
      "  Step 7/8 ... done\n",
      "  Step 8/8 ... done\n",
      "\n",
      "  Validation loss: 2.9983 accuracy_score: 0.2639\n",
      "  Overall loss: 2.9933 accuracy_score: 0.2938\n",
      "\n",
      "Epoch  3/50\n",
      "  Step 1/8 ... done\n",
      "  Step 2/8 ... done\n",
      "  Step 3/8 ... done\n",
      "  Step 4/8 ... done\n",
      "  Step 5/8 ... done\n",
      "  Step 6/8 ... done\n",
      "  Step 7/8 ... done\n",
      "  Step 8/8 ... done\n",
      "\n",
      "  Validation loss: 2.8025 accuracy_score: 0.4126\n",
      "  Overall loss: 2.7959 accuracy_score: 0.4356\n",
      "\n",
      "Epoch  4/50\n",
      "  Step 1/8 ... done\n",
      "  Step 2/8 ... done\n",
      "  Step 3/8 ... done\n",
      "  Step 4/8 ... done\n",
      "  Step 5/8 ... done\n",
      "  Step 6/8 ... done\n",
      "  Step 7/8 ... done\n",
      "  Step 8/8 ... done\n",
      "\n",
      "  Validation loss: 2.6325 accuracy_score: 0.5465\n",
      "  Overall loss: 2.6249 accuracy_score: 0.5329\n",
      "\n",
      "Epoch  5/50\n",
      "  Step 1/8 ... done\n",
      "  Step 2/8 ... done\n",
      "  Step 3/8 ... done\n",
      "  Step 4/8 ... done\n",
      "  Step 5/8 ... done\n",
      "  Step 6/8 ... done\n",
      "  Step 7/8 ... done\n",
      "  Step 8/8 ... done\n",
      "\n",
      "  Validation loss: 2.4627 accuracy_score: 0.6543\n",
      "  Overall loss: 2.4588 accuracy_score: 0.6339\n",
      "\n",
      "Epoch  6/50\n",
      "  Step 1/8 ... done\n",
      "  Step 2/8 ... done\n",
      "  Step 3/8 ... done\n",
      "  Step 4/8 ... done\n",
      "  Step 5/8 ... done\n",
      "  Step 6/8 ... done\n",
      "  Step 7/8 ... done\n",
      "  Step 8/8 ... done\n",
      "\n",
      "  Validation loss: 2.3076 accuracy_score: 0.6877\n",
      "  Overall loss: 2.3059 accuracy_score: 0.6905\n",
      "\n",
      "Epoch  7/50\n",
      "  Step 1/8 ... done\n",
      "  Step 2/8 ... done\n",
      "  Step 3/8 ... done\n",
      "  Step 4/8 ... done\n",
      "  Step 5/8 ... done\n",
      "  Step 6/8 ... done\n",
      "  Step 7/8 ... done\n",
      "  Step 8/8 ... done\n",
      "\n",
      "  Validation loss: 2.1646 accuracy_score: 0.7026\n",
      "  Overall loss: 2.1624 accuracy_score: 0.7183\n",
      "\n",
      "Epoch  8/50\n",
      "  Step 1/8 ... done\n",
      "  Step 2/8 ... done\n",
      "  Step 3/8 ... done\n",
      "  Step 4/8 ... done\n",
      "  Step 5/8 ... done\n",
      "  Step 6/8 ... done\n",
      "  Step 7/8 ... done\n",
      "  Step 8/8 ... done\n",
      "\n",
      "  Validation loss: 2.034 accuracy_score: 0.7361\n",
      "  Overall loss: 2.0338 accuracy_score: 0.7433\n",
      "\n",
      "Epoch  9/50\n",
      "  Step 1/8 ... done\n",
      "  Step 2/8 ... done\n",
      "  Step 3/8 ... done\n",
      "  Step 4/8 ... done\n",
      "  Step 5/8 ... done\n",
      "  Step 6/8 ... done\n",
      "  Step 7/8 ... done\n",
      "  Step 8/8 ... done\n",
      "\n",
      "  Validation loss: 1.9154 accuracy_score: 0.7807\n",
      "  Overall loss: 1.92 accuracy_score: 0.7637\n",
      "\n",
      "Epoch 10/50\n",
      "  Step 1/8 ... done\n",
      "  Step 2/8 ... done\n",
      "  Step 3/8 ... done\n",
      "  Step 4/8 ... done\n",
      "  Step 5/8 ... done\n",
      "  Step 6/8 ... done\n",
      "  Step 7/8 ... done\n",
      "  Step 8/8 ... done\n",
      "\n",
      "  Validation loss: 1.781 accuracy_score: 0.8067\n",
      "  Overall loss: 1.7908 accuracy_score: 0.7943\n",
      "\n",
      "Epoch 11/50\n",
      "  Step 1/8 ... done\n",
      "  Step 2/8 ... done\n",
      "  Step 3/8 ... done\n",
      "  Step 4/8 ... done\n",
      "  Step 5/8 ... done\n",
      "  Step 6/8 ... done\n",
      "  Step 7/8 ... done\n",
      "  Step 8/8 ... done\n",
      "\n",
      "  Validation loss: 1.6754 accuracy_score: 0.8216\n",
      "  Overall loss: 1.6862 accuracy_score: 0.8128\n",
      "\n",
      "Epoch 12/50\n",
      "  Step 1/8 ... done\n",
      "  Step 2/8 ... done\n",
      "  Step 3/8 ... done\n",
      "  Step 4/8 ... done\n",
      "  Step 5/8 ... done\n",
      "  Step 6/8 ... done\n",
      "  Step 7/8 ... done\n",
      "  Step 8/8 ... done\n",
      "\n",
      "  Validation loss: 1.5748 accuracy_score: 0.8216\n",
      "  Overall loss: 1.5884 accuracy_score: 0.8239\n",
      "\n",
      "Epoch 13/50\n",
      "  Step 1/8 ... done\n",
      "  Step 2/8 ... done\n",
      "  Step 3/8 ... done\n",
      "  Step 4/8 ... done\n",
      "  Step 5/8 ... done\n",
      "  Step 6/8 ... done\n",
      "  Step 7/8 ... done\n",
      "  Step 8/8 ... done\n",
      "\n",
      "  Validation loss: 1.475 accuracy_score: 0.8513\n",
      "  Overall loss: 1.4938 accuracy_score: 0.8424\n",
      "\n",
      "Epoch 14/50\n",
      "  Step 1/8 ... done\n",
      "  Step 2/8 ... done\n",
      "  Step 3/8 ... done\n",
      "  Step 4/8 ... done\n",
      "  Step 5/8 ... done\n",
      "  Step 6/8 ... done\n",
      "  Step 7/8 ... done\n",
      "  Step 8/8 ... done\n",
      "\n",
      "  Validation loss: 1.3895 accuracy_score: 0.8587\n",
      "  Overall loss: 1.41 accuracy_score: 0.8582\n",
      "\n",
      "Epoch 15/50\n",
      "  Step 1/8 ... done\n",
      "  Step 2/8 ... done\n",
      "  Step 3/8 ... done\n",
      "  Step 4/8 ... done\n",
      "  Step 5/8 ... done\n",
      "  Step 6/8 ... done\n",
      "  Step 7/8 ... done\n",
      "  Step 8/8 ... done\n",
      "\n",
      "  Validation loss: 1.3002 accuracy_score: 0.8773\n",
      "  Overall loss: 1.3257 accuracy_score: 0.8638\n",
      "\n",
      "Epoch 16/50\n",
      "  Step 1/8 ... done\n",
      "  Step 2/8 ... done\n",
      "  Step 3/8 ... done\n",
      "  Step 4/8 ... done\n",
      "  Step 5/8 ... done\n",
      "  Step 6/8 ... done\n",
      "  Step 7/8 ... done\n",
      "  Step 8/8 ... done\n",
      "\n",
      "  Validation loss: 1.2277 accuracy_score: 0.881\n",
      "  Overall loss: 1.252 accuracy_score: 0.8703\n",
      "\n",
      "Epoch 17/50\n",
      "  Step 1/8 ... done\n",
      "  Step 2/8 ... done\n",
      "  Step 3/8 ... done\n",
      "  Step 4/8 ... done\n",
      "  Step 5/8 ... done\n",
      "  Step 6/8 ... done\n",
      "  Step 7/8 ... done\n",
      "  Step 8/8 ... done\n",
      "\n",
      "  Validation loss: 1.1523 accuracy_score: 0.8885\n",
      "  Overall loss: 1.1777 accuracy_score: 0.8786\n",
      "\n",
      "Further output truncated ...\n"
      "Final epoch of current fold of the cross validator\n"
      "Epoch 50/50\n",
      "  Step 1/8 ... done\n",
      "  Step 2/8 ... done\n",
      "  Step 3/8 ... done\n",
      "  Step 4/8 ... done\n",
      "  Step 5/8 ... done\n",
      "  Step 6/8 ... done\n",
      "  Step 7/8 ... done\n",
      "  Step 8/8 ... done\n",
      "\n",
      "  Validation loss: 0.3826 accuracy_score: 0.9554\n",
      "  Overall loss: 0.4229 accuracy_score: 0.9388\n",
      "\n",
            "Further output truncated ... ",
      "\nFinal Epoch\n",
      "Epoch 50/50\n",
      "  Step 1/8 ... done\n",
      "  Step 2/8 ... done\n",
      "  Step 3/8 ... done\n",
      "  Step 4/8 ... done\n",
      "  Step 5/8 ... done\n",
      "  Step 6/8 ... done\n",
      "  Step 7/8 ... done\n",
      "  Step 8/8 ... done\n",
      "\n",
      "  Validation loss: 0.1215 accuracy_score: 0.9888\n",
      "  Overall loss: 0.0846 accuracy_score: 0.9898\n"
     ]
    }
   ],
   "source": [
    "# Train the model with Cross Validation\n",
    "for train, validate in kf.split(X_train):\n",
    "    net.fit(\n",
    "        X_train[train],\n",
    "        y_train_encoded[train],\n",
    "        epochs=50,\n",
    "        batch_size=128,\n",
    "        validation_data=(X_train[validate], y_train_encoded[validate]),\n",
    "    )"
   ]
  },
  {
   "cell_type": "code",
   "execution_count": 10,
   "id": "c2099a40-4a23-43db-afc7-5f775c888dcd",
   "metadata": {},
   "outputs": [],
   "source": [
    "# Make predictions on the testing data\n",
    "predictions = net.predict(X_test, classify=True)"
   ]
  },
  {
   "cell_type": "code",
   "execution_count": 11,
   "id": "559dfa6a-fda7-4eb4-976f-fc018772af61",
   "metadata": {},
   "outputs": [
    {
     "name": "stdout",
     "output_type": "stream",
     "text": [
      "[[45  0  0  0  1  0  0  0  0  0]\n",
      " [ 0 44  0  0  0  0  0  0  0  0]\n",
      " [ 0  1 34  0  0  0  0  0  0  0]\n",
      " [ 0  0  0 43  0  0  0  3  3  0]\n",
      " [ 0  0  0  0 38  0  0  1  0  2]\n",
      " [ 0  0  0  0  1 53  1  0  0  0]\n",
      " [ 0  0  0  0  0  0 38  0  0  0]\n",
      " [ 0  0  0  0  0  0  0 46  1  0]\n",
      " [ 1  0  0  0  0  0  0  0 50  0]\n",
      " [ 0  0  0  0  0  1  0  0  1 41]]\n"
     ]
    }
   ],
   "source": [
    "# The confusion matrix\n",
    "from neural_network.metrics import confusion_matrix\n",
    "cmat = confusion_matrix(y_test_encoded, predictions) \n",
    "print(cmat)"
   ]
  },
  {
   "cell_type": "code",
   "execution_count": 12,
   "id": "783c5e41-9679-4234-9bac-de4541dabe30",
   "metadata": {},
   "outputs": [
    {
     "name": "stdout",
     "output_type": "stream",
     "text": [
      "Accuracy:  0.962\n"
     ]
    }
   ],
   "source": [
    "# Accuracy of the model\n",
    "from neural_network.metrics import accuracy_score\n",
    "acc = accuracy_score(y_test_encoded, predictions)\n",
    "print('Accuracy: ', np.around(acc, 3))"
   ]
  },
  {
   "cell_type": "code",
   "execution_count": 13,
   "id": "e3bf9119-83ed-46bc-9133-48b8f994b334",
   "metadata": {},
   "outputs": [
    {
     "name": "stdout",
     "output_type": "stream",
     "text": [
      "Accuracy by Label: [0.978 0.978 1.    1.    0.95  0.981 0.974 0.92  0.909 0.953]\n"
     ]
    }
   ],
   "source": [
    "# Accuracy by label\n",
    "from neural_network.metrics import accuracy_by_label\n",
    "acc_by_label = accuracy_by_label(y_test_encoded, predictions)\n",
    "print('Accuracy by Label:', np.around(acc_by_label, 3))"
   ]
  }
 ],
 "metadata": {
  "kernelspec": {
   "display_name": "Python 3 (ipykernel)",
   "language": "python",
   "name": "python3"
  },
  "language_info": {
   "codemirror_mode": {
    "name": "ipython",
    "version": 3
   },
   "file_extension": ".py",
   "mimetype": "text/x-python",
   "name": "python",
   "nbconvert_exporter": "python",
   "pygments_lexer": "ipython3",
   "version": "3.9.6"
  }
 },
 "nbformat": 4,
 "nbformat_minor": 5
}
